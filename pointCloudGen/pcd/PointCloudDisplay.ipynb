{
 "cells": [
  {
   "cell_type": "code",
   "execution_count": 2,
   "metadata": {},
   "outputs": [],
   "source": [
    "import open3d as o3d"
   ]
  },
  {
   "cell_type": "markdown",
   "metadata": {},
   "source": [
    "### Display ball pointcloud"
   ]
  },
  {
   "cell_type": "code",
   "execution_count": 8,
   "metadata": {},
   "outputs": [
    {
     "name": "stdout",
     "output_type": "stream",
     "text": [
      "Load a ply point cloud and render it\n"
     ]
    }
   ],
   "source": [
    "print(\"Load a ply point cloud and render it\")\n",
    "pcd = o3d.io.read_point_cloud(\"../badslam_scan0422/ball/ball3.ply\")\n",
    "o3d.visualization.draw_geometries([pcd])"
   ]
  },
  {
   "cell_type": "markdown",
   "metadata": {},
   "source": [
    "### Display sponge pointcloud"
   ]
  },
  {
   "cell_type": "code",
   "execution_count": 7,
   "metadata": {},
   "outputs": [
    {
     "name": "stdout",
     "output_type": "stream",
     "text": [
      "Load a ply point cloud and render it\n"
     ]
    }
   ],
   "source": [
    "print(\"Load a ply point cloud and render it\")\n",
    "pcd = o3d.io.read_point_cloud(\"../badslam_scan0422/sponge/sponge.ply\")\n",
    "o3d.visualization.draw_geometries([pcd])"
   ]
  },
  {
   "cell_type": "markdown",
   "metadata": {},
   "source": [
    "### Display guitar pointcloud"
   ]
  },
  {
   "cell_type": "code",
   "execution_count": 4,
   "metadata": {},
   "outputs": [
    {
     "name": "stdout",
     "output_type": "stream",
     "text": [
      "Load a ply point cloud and render it\n"
     ]
    }
   ],
   "source": [
    "print(\"Load a ply point cloud and render it\")\n",
    "pcd = o3d.io.read_point_cloud(\"../badslam_scan0422/guitar/guitar.ply\")\n",
    "o3d.visualization.draw_geometries([pcd])"
   ]
  },
  {
   "cell_type": "markdown",
   "metadata": {},
   "source": [
    "### Display cap pointcloud"
   ]
  },
  {
   "cell_type": "code",
   "execution_count": 6,
   "metadata": {},
   "outputs": [
    {
     "name": "stdout",
     "output_type": "stream",
     "text": [
      "Load a ply point cloud and render it\n"
     ]
    }
   ],
   "source": [
    "print(\"Load a ply point cloud and render it\")\n",
    "pcd = o3d.io.read_point_cloud(\"../badslam_scan0422/cap/cap.ply\")\n",
    "o3d.visualization.draw_geometries([pcd])"
   ]
  },
  {
   "cell_type": "markdown",
   "metadata": {},
   "source": [
    "### Display stereo pointcloud"
   ]
  },
  {
   "cell_type": "code",
   "execution_count": 9,
   "metadata": {},
   "outputs": [
    {
     "name": "stdout",
     "output_type": "stream",
     "text": [
      "Load a ply point cloud and render it\n"
     ]
    }
   ],
   "source": [
    "print(\"Load a ply point cloud and render it\")\n",
    "pcd = o3d.io.read_point_cloud(\"../badslam_scan0422/stereo/good3.ply\")\n",
    "o3d.visualization.draw_geometries([pcd])"
   ]
  }
 ],
 "metadata": {
  "kernelspec": {
   "display_name": "Python 3",
   "language": "python",
   "name": "python3"
  },
  "language_info": {
   "codemirror_mode": {
    "name": "ipython",
    "version": 3
   },
   "file_extension": ".py",
   "mimetype": "text/x-python",
   "name": "python",
   "nbconvert_exporter": "python",
   "pygments_lexer": "ipython3",
   "version": "3.7.4"
  }
 },
 "nbformat": 4,
 "nbformat_minor": 2
}
